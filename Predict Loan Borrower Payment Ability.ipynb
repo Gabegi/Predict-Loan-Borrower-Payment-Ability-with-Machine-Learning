{
 "cells": [
  {
   "cell_type": "markdown",
   "metadata": {},
   "source": [
    "\n",
    "# Predict Borrower Worthiness with Machine Learning\n",
    "\n",
    "Can we build a machine learning model that can accurately predict if a borrower will pay off its loan on time?\n",
    "\n",
    "To answer this question, we are going to be using a data set provided by the lendingclub https://www.lendingclub.com/. The Lendingsclub is a match-making website for borrowers and lenders.\n",
    "\n",
    "Lenders willingly provide loans to borrowers, nevertheless, there is always a risk that this latter won't be able to repay. Yet, the higher the risk, the higher the interest being paid, i.e. the money made for the lender.\n",
    "\n",
    "Predicting credit-worthiness, will enable lenders to find the sweet spot between risk and return.\n",
    "\n",
    "The dataset covers the Lending Club 2007-2011 Data - one can get the dataset on Kaggle via this link: https://www.kaggle.com/samaxtech/lending-club-20072011-data/data"
   ]
  },
  {
   "cell_type": "code",
   "execution_count": 39,
   "metadata": {},
   "outputs": [],
   "source": [
    "import pandas as pd\n",
    "import numpy as np"
   ]
  },
  {
   "cell_type": "markdown",
   "metadata": {},
   "source": [
    "# Exploring the Data"
   ]
  },
  {
   "cell_type": "code",
   "execution_count": 40,
   "metadata": {
    "scrolled": true
   },
   "outputs": [],
   "source": [
    "loans = pd.read_csv('loans_2007.csv')"
   ]
  },
  {
   "cell_type": "code",
   "execution_count": 41,
   "metadata": {},
   "outputs": [
    {
     "name": "stdout",
     "output_type": "stream",
     "text": [
      "<class 'pandas.core.frame.DataFrame'>\n",
      "RangeIndex: 42538 entries, 0 to 42537\n",
      "Data columns (total 52 columns):\n",
      "id                            42538 non-null object\n",
      "member_id                     42535 non-null float64\n",
      "loan_amnt                     42535 non-null float64\n",
      "funded_amnt                   42535 non-null float64\n",
      "funded_amnt_inv               42535 non-null float64\n",
      "term                          42535 non-null object\n",
      "int_rate                      42535 non-null object\n",
      "installment                   42535 non-null float64\n",
      "grade                         42535 non-null object\n",
      "sub_grade                     42535 non-null object\n",
      "emp_title                     39909 non-null object\n",
      "emp_length                    41423 non-null object\n",
      "home_ownership                42535 non-null object\n",
      "annual_inc                    42531 non-null float64\n",
      "verification_status           42535 non-null object\n",
      "issue_d                       42535 non-null object\n",
      "loan_status                   42535 non-null object\n",
      "pymnt_plan                    42535 non-null object\n",
      "purpose                       42535 non-null object\n",
      "title                         42522 non-null object\n",
      "zip_code                      42535 non-null object\n",
      "addr_state                    42535 non-null object\n",
      "dti                           42535 non-null float64\n",
      "delinq_2yrs                   42506 non-null float64\n",
      "earliest_cr_line              42506 non-null object\n",
      "inq_last_6mths                42506 non-null float64\n",
      "open_acc                      42506 non-null float64\n",
      "pub_rec                       42506 non-null float64\n",
      "revol_bal                     42535 non-null float64\n",
      "revol_util                    42445 non-null object\n",
      "total_acc                     42506 non-null float64\n",
      "initial_list_status           42535 non-null object\n",
      "out_prncp                     42535 non-null float64\n",
      "out_prncp_inv                 42535 non-null float64\n",
      "total_pymnt                   42535 non-null float64\n",
      "total_pymnt_inv               42535 non-null float64\n",
      "total_rec_prncp               42535 non-null float64\n",
      "total_rec_int                 42535 non-null float64\n",
      "total_rec_late_fee            42535 non-null float64\n",
      "recoveries                    42535 non-null float64\n",
      "collection_recovery_fee       42535 non-null float64\n",
      "last_pymnt_d                  42452 non-null object\n",
      "last_pymnt_amnt               42535 non-null float64\n",
      "last_credit_pull_d            42531 non-null object\n",
      "collections_12_mths_ex_med    42390 non-null float64\n",
      "policy_code                   42535 non-null float64\n",
      "application_type              42535 non-null object\n",
      "acc_now_delinq                42506 non-null float64\n",
      "chargeoff_within_12_mths      42390 non-null float64\n",
      "delinq_amnt                   42506 non-null float64\n",
      "pub_rec_bankruptcies          41170 non-null float64\n",
      "tax_liens                     42430 non-null float64\n",
      "dtypes: float64(30), object(22)\n",
      "memory usage: 16.9+ MB\n"
     ]
    }
   ],
   "source": [
    "loans.info()"
   ]
  },
  {
   "cell_type": "markdown",
   "metadata": {},
   "source": [
    "columns description https://docs.google.com/spreadsheets/d/191B2yJ4H1ZPXq0_ByhUgWMFZOYem5jFz0Y3by_7YBY4/edit#gid=2081333097"
   ]
  },
  {
   "cell_type": "code",
   "execution_count": 42,
   "metadata": {},
   "outputs": [
    {
     "data": {
      "text/html": [
       "<div>\n",
       "<style scoped>\n",
       "    .dataframe tbody tr th:only-of-type {\n",
       "        vertical-align: middle;\n",
       "    }\n",
       "\n",
       "    .dataframe tbody tr th {\n",
       "        vertical-align: top;\n",
       "    }\n",
       "\n",
       "    .dataframe thead th {\n",
       "        text-align: right;\n",
       "    }\n",
       "</style>\n",
       "<table border=\"1\" class=\"dataframe\">\n",
       "  <thead>\n",
       "    <tr style=\"text-align: right;\">\n",
       "      <th></th>\n",
       "      <th>id</th>\n",
       "      <th>member_id</th>\n",
       "      <th>loan_amnt</th>\n",
       "      <th>funded_amnt</th>\n",
       "      <th>funded_amnt_inv</th>\n",
       "      <th>term</th>\n",
       "      <th>int_rate</th>\n",
       "      <th>installment</th>\n",
       "      <th>grade</th>\n",
       "      <th>sub_grade</th>\n",
       "      <th>...</th>\n",
       "      <th>last_pymnt_amnt</th>\n",
       "      <th>last_credit_pull_d</th>\n",
       "      <th>collections_12_mths_ex_med</th>\n",
       "      <th>policy_code</th>\n",
       "      <th>application_type</th>\n",
       "      <th>acc_now_delinq</th>\n",
       "      <th>chargeoff_within_12_mths</th>\n",
       "      <th>delinq_amnt</th>\n",
       "      <th>pub_rec_bankruptcies</th>\n",
       "      <th>tax_liens</th>\n",
       "    </tr>\n",
       "  </thead>\n",
       "  <tbody>\n",
       "    <tr>\n",
       "      <th>0</th>\n",
       "      <td>1077501</td>\n",
       "      <td>1296599.0</td>\n",
       "      <td>5000.0</td>\n",
       "      <td>5000.0</td>\n",
       "      <td>4975.0</td>\n",
       "      <td>36 months</td>\n",
       "      <td>10.65%</td>\n",
       "      <td>162.87</td>\n",
       "      <td>B</td>\n",
       "      <td>B2</td>\n",
       "      <td>...</td>\n",
       "      <td>171.62</td>\n",
       "      <td>Jun-2016</td>\n",
       "      <td>0.0</td>\n",
       "      <td>1.0</td>\n",
       "      <td>INDIVIDUAL</td>\n",
       "      <td>0.0</td>\n",
       "      <td>0.0</td>\n",
       "      <td>0.0</td>\n",
       "      <td>0.0</td>\n",
       "      <td>0.0</td>\n",
       "    </tr>\n",
       "    <tr>\n",
       "      <th>1</th>\n",
       "      <td>1077430</td>\n",
       "      <td>1314167.0</td>\n",
       "      <td>2500.0</td>\n",
       "      <td>2500.0</td>\n",
       "      <td>2500.0</td>\n",
       "      <td>60 months</td>\n",
       "      <td>15.27%</td>\n",
       "      <td>59.83</td>\n",
       "      <td>C</td>\n",
       "      <td>C4</td>\n",
       "      <td>...</td>\n",
       "      <td>119.66</td>\n",
       "      <td>Sep-2013</td>\n",
       "      <td>0.0</td>\n",
       "      <td>1.0</td>\n",
       "      <td>INDIVIDUAL</td>\n",
       "      <td>0.0</td>\n",
       "      <td>0.0</td>\n",
       "      <td>0.0</td>\n",
       "      <td>0.0</td>\n",
       "      <td>0.0</td>\n",
       "    </tr>\n",
       "    <tr>\n",
       "      <th>2</th>\n",
       "      <td>1077175</td>\n",
       "      <td>1313524.0</td>\n",
       "      <td>2400.0</td>\n",
       "      <td>2400.0</td>\n",
       "      <td>2400.0</td>\n",
       "      <td>36 months</td>\n",
       "      <td>15.96%</td>\n",
       "      <td>84.33</td>\n",
       "      <td>C</td>\n",
       "      <td>C5</td>\n",
       "      <td>...</td>\n",
       "      <td>649.91</td>\n",
       "      <td>Jun-2016</td>\n",
       "      <td>0.0</td>\n",
       "      <td>1.0</td>\n",
       "      <td>INDIVIDUAL</td>\n",
       "      <td>0.0</td>\n",
       "      <td>0.0</td>\n",
       "      <td>0.0</td>\n",
       "      <td>0.0</td>\n",
       "      <td>0.0</td>\n",
       "    </tr>\n",
       "    <tr>\n",
       "      <th>3</th>\n",
       "      <td>1076863</td>\n",
       "      <td>1277178.0</td>\n",
       "      <td>10000.0</td>\n",
       "      <td>10000.0</td>\n",
       "      <td>10000.0</td>\n",
       "      <td>36 months</td>\n",
       "      <td>13.49%</td>\n",
       "      <td>339.31</td>\n",
       "      <td>C</td>\n",
       "      <td>C1</td>\n",
       "      <td>...</td>\n",
       "      <td>357.48</td>\n",
       "      <td>Apr-2016</td>\n",
       "      <td>0.0</td>\n",
       "      <td>1.0</td>\n",
       "      <td>INDIVIDUAL</td>\n",
       "      <td>0.0</td>\n",
       "      <td>0.0</td>\n",
       "      <td>0.0</td>\n",
       "      <td>0.0</td>\n",
       "      <td>0.0</td>\n",
       "    </tr>\n",
       "    <tr>\n",
       "      <th>4</th>\n",
       "      <td>1075358</td>\n",
       "      <td>1311748.0</td>\n",
       "      <td>3000.0</td>\n",
       "      <td>3000.0</td>\n",
       "      <td>3000.0</td>\n",
       "      <td>60 months</td>\n",
       "      <td>12.69%</td>\n",
       "      <td>67.79</td>\n",
       "      <td>B</td>\n",
       "      <td>B5</td>\n",
       "      <td>...</td>\n",
       "      <td>67.79</td>\n",
       "      <td>Jun-2016</td>\n",
       "      <td>0.0</td>\n",
       "      <td>1.0</td>\n",
       "      <td>INDIVIDUAL</td>\n",
       "      <td>0.0</td>\n",
       "      <td>0.0</td>\n",
       "      <td>0.0</td>\n",
       "      <td>0.0</td>\n",
       "      <td>0.0</td>\n",
       "    </tr>\n",
       "  </tbody>\n",
       "</table>\n",
       "<p>5 rows × 52 columns</p>\n",
       "</div>"
      ],
      "text/plain": [
       "        id  member_id  loan_amnt  funded_amnt  funded_amnt_inv        term  \\\n",
       "0  1077501  1296599.0     5000.0       5000.0           4975.0   36 months   \n",
       "1  1077430  1314167.0     2500.0       2500.0           2500.0   60 months   \n",
       "2  1077175  1313524.0     2400.0       2400.0           2400.0   36 months   \n",
       "3  1076863  1277178.0    10000.0      10000.0          10000.0   36 months   \n",
       "4  1075358  1311748.0     3000.0       3000.0           3000.0   60 months   \n",
       "\n",
       "  int_rate  installment grade sub_grade  ... last_pymnt_amnt  \\\n",
       "0   10.65%       162.87     B        B2  ...          171.62   \n",
       "1   15.27%        59.83     C        C4  ...          119.66   \n",
       "2   15.96%        84.33     C        C5  ...          649.91   \n",
       "3   13.49%       339.31     C        C1  ...          357.48   \n",
       "4   12.69%        67.79     B        B5  ...           67.79   \n",
       "\n",
       "  last_credit_pull_d collections_12_mths_ex_med  policy_code application_type  \\\n",
       "0           Jun-2016                        0.0          1.0       INDIVIDUAL   \n",
       "1           Sep-2013                        0.0          1.0       INDIVIDUAL   \n",
       "2           Jun-2016                        0.0          1.0       INDIVIDUAL   \n",
       "3           Apr-2016                        0.0          1.0       INDIVIDUAL   \n",
       "4           Jun-2016                        0.0          1.0       INDIVIDUAL   \n",
       "\n",
       "  acc_now_delinq chargeoff_within_12_mths delinq_amnt pub_rec_bankruptcies  \\\n",
       "0            0.0                      0.0         0.0                  0.0   \n",
       "1            0.0                      0.0         0.0                  0.0   \n",
       "2            0.0                      0.0         0.0                  0.0   \n",
       "3            0.0                      0.0         0.0                  0.0   \n",
       "4            0.0                      0.0         0.0                  0.0   \n",
       "\n",
       "  tax_liens  \n",
       "0       0.0  \n",
       "1       0.0  \n",
       "2       0.0  \n",
       "3       0.0  \n",
       "4       0.0  \n",
       "\n",
       "[5 rows x 52 columns]"
      ]
     },
     "execution_count": 42,
     "metadata": {},
     "output_type": "execute_result"
    }
   ],
   "source": [
    "loans.head()"
   ]
  },
  {
   "cell_type": "code",
   "execution_count": 43,
   "metadata": {},
   "outputs": [
    {
     "data": {
      "text/plain": [
       "id                               0\n",
       "member_id                        3\n",
       "loan_amnt                        3\n",
       "funded_amnt                      3\n",
       "funded_amnt_inv                  3\n",
       "term                             3\n",
       "int_rate                         3\n",
       "installment                      3\n",
       "grade                            3\n",
       "sub_grade                        3\n",
       "emp_title                     2629\n",
       "emp_length                    1115\n",
       "home_ownership                   3\n",
       "annual_inc                       7\n",
       "verification_status              3\n",
       "issue_d                          3\n",
       "loan_status                      3\n",
       "pymnt_plan                       3\n",
       "purpose                          3\n",
       "title                           16\n",
       "zip_code                         3\n",
       "addr_state                       3\n",
       "dti                              3\n",
       "delinq_2yrs                     32\n",
       "earliest_cr_line                32\n",
       "inq_last_6mths                  32\n",
       "open_acc                        32\n",
       "pub_rec                         32\n",
       "revol_bal                        3\n",
       "revol_util                      93\n",
       "total_acc                       32\n",
       "initial_list_status              3\n",
       "out_prncp                        3\n",
       "out_prncp_inv                    3\n",
       "total_pymnt                      3\n",
       "total_pymnt_inv                  3\n",
       "total_rec_prncp                  3\n",
       "total_rec_int                    3\n",
       "total_rec_late_fee               3\n",
       "recoveries                       3\n",
       "collection_recovery_fee          3\n",
       "last_pymnt_d                    86\n",
       "last_pymnt_amnt                  3\n",
       "last_credit_pull_d               7\n",
       "collections_12_mths_ex_med     148\n",
       "policy_code                      3\n",
       "application_type                 3\n",
       "acc_now_delinq                  32\n",
       "chargeoff_within_12_mths       148\n",
       "delinq_amnt                     32\n",
       "pub_rec_bankruptcies          1368\n",
       "tax_liens                      108\n",
       "dtype: int64"
      ]
     },
     "execution_count": 43,
     "metadata": {},
     "output_type": "execute_result"
    }
   ],
   "source": [
    "loans.isna().sum()"
   ]
  },
  {
   "cell_type": "markdown",
   "metadata": {},
   "source": [
    "# Narrowing the data-set - part.1\n",
    "\n",
    "The Machine Learning algorithm needs to be fed with data that is relevant.\n",
    "Therefore we will be removing columns that include data that isn't useful for this exercise"
   ]
  },
  {
   "cell_type": "markdown",
   "metadata": {},
   "source": [
    "After analysing each column, we can conclude that the following features need to be removed:\n",
    "\n",
    "- id: randomly generated field by Lending Club for unique identification purposes only\n",
    "- member_id: also a randomly generated field by Lending Club for unique identification purposes only\n",
    "- funded_amnt: leaks data from the future (after the loan is already started to be funded)\n",
    "- funded_amnt_inv: also leaks data from the future (after the loan is already started to be funded)\n",
    "- grade: contains redundant information as the interest rate column (int_rate)\n",
    "- sub_grade: also contains redundant information as the interest rate column (int_rate)\n",
    "- emp_title: requires other data and a lot of processing to potentially be useful\n",
    "- issue_d: leaks data from the future (after the loan is already completely funded)"
   ]
  },
  {
   "cell_type": "code",
   "execution_count": 44,
   "metadata": {},
   "outputs": [],
   "source": [
    "loans_2007 = loans.drop(['id', 'member_id', 'funded_amnt', 'funded_amnt_inv', 'grade', 'sub_grade', 'emp_title', 'issue_d'], axis = 1)"
   ]
  },
  {
   "cell_type": "markdown",
   "metadata": {},
   "source": [
    "# Narrowing the data-set - part.2"
   ]
  },
  {
   "cell_type": "markdown",
   "metadata": {},
   "source": [
    "Further analysing the data we found;\n",
    "\n",
    "- zip_code: redundant with the addr_state column since only the first 3 digits of the 5 digit zip code are visible (which only can be used to identify the state the borrower lives in)\n",
    "- out_prncp: leaks data from the future, (after the loan already started to be paid off)\n",
    "- out_prncp_inv: also leaks data from the future, (after the loan already started to be paid off)\n",
    "- total_pymnt: also leaks data from the future, (after the loan already started to be paid off)\n",
    "- total_pymnt_inv: also leaks data from the future, (after the loan already started to be paid off)\n",
    "- total_rec_prncp: also leaks data from the future, (after the loan already started to be paid off)\n"
   ]
  },
  {
   "cell_type": "code",
   "execution_count": 45,
   "metadata": {},
   "outputs": [],
   "source": [
    "loans_cleaned  = loans_2007.drop(['zip_code', 'out_prncp', 'out_prncp_inv', 'total_pymnt', 'total_pymnt_inv', 'total_rec_prncp'], axis = 1)"
   ]
  },
  {
   "cell_type": "markdown",
   "metadata": {},
   "source": [
    "# Narrowing the data-set - part.3"
   ]
  },
  {
   "cell_type": "markdown",
   "metadata": {},
   "source": [
    "Finally, again rechecking the data, we found;\n",
    "\n",
    "- total_rec_int: leaks data from the future, (after the loan already started to be paid off),\n",
    "- total_rec_late_fee: also leaks data from the future, (after the loan already started to be paid off),\n",
    "- recoveries: also leaks data from the future, (after the loan already started to be paid off),\n",
    "- collection_recovery_fee: also leaks data from the future, (after the loan already started to be paid off),\n",
    "- last_pymnt_d: also leaks data from the future, (after the loan already started to be paid off),\n",
    "- last_pymnt_amnt: also leaks data from the future, (after the loan already started to be paid off)."
   ]
  },
  {
   "cell_type": "code",
   "execution_count": 46,
   "metadata": {},
   "outputs": [],
   "source": [
    "loans_really_cleaned = loans_cleaned.drop(['total_rec_int', 'total_rec_late_fee', 'recoveries', 'collection_recovery_fee', 'last_pymnt_d', 'last_pymnt_amnt'], axis =1)"
   ]
  },
  {
   "cell_type": "code",
   "execution_count": 47,
   "metadata": {},
   "outputs": [],
   "source": [
    "loans = loans_really_cleaned"
   ]
  },
  {
   "cell_type": "markdown",
   "metadata": {},
   "source": [
    "# Finding a target column\n",
    "\n",
    "Which column in the data-set best describes if the loan was paid or not?\n",
    "\n",
    "- the 'loan_status' column is the only that actually indicates whether the loan was paid on time or not\n",
    "\n",
    "Therefore we will be using it as our target column"
   ]
  },
  {
   "cell_type": "code",
   "execution_count": 48,
   "metadata": {},
   "outputs": [
    {
     "data": {
      "text/plain": [
       "Fully Paid                                             33136\n",
       "Charged Off                                             5634\n",
       "Does not meet the credit policy. Status:Fully Paid      1988\n",
       "Current                                                  961\n",
       "Does not meet the credit policy. Status:Charged Off      761\n",
       "Late (31-120 days)                                        24\n",
       "In Grace Period                                           20\n",
       "Late (16-30 days)                                          8\n",
       "Default                                                    3\n",
       "Name: loan_status, dtype: int64"
      ]
     },
     "execution_count": 48,
     "metadata": {},
     "output_type": "execute_result"
    }
   ],
   "source": [
    "loans['loan_status'].value_counts()"
   ]
  },
  {
   "cell_type": "markdown",
   "metadata": {},
   "source": [
    "Let's explore what each term actually means using a quick Google search;\n",
    "\n",
    "- Fully Paid\t33136\tLoan has been fully paid off.\n",
    "- Charged Off\t5634\tLoan for which there is no longer a reasonable expectation of further payments.\n",
    "- Does not meet the credit policy. Status:Fully Paid\t1988\tWhile the loan was paid off, the loan application today would no longer meet the credit policy and wouldn't be approved on to the marketplace.\n",
    "- Does not meet the credit policy. Status:Charged Off\t761\tWhile the loan was charged off, the loan application today would no longer meet the credit policy and wouldn't be approved on to the marketplace.\n",
    "- In Grace Period\t20\tThe loan is past due but still in the grace period of 15 days.\n",
    "- Late (16-30 days)\t8\tLoan hasn't been paid in 16 to 30 days (late on the current payment).\n",
    "- Late (31-120 days)\t24\tLoan hasn't been paid in 31 to 120 days (late on the current payment).\n",
    "- Current\t961\tLoan is up to date on current payments.\n",
    "- Default\t3\tLoan is defaulted on and no payment has been made for more than 121 days."
   ]
  },
  {
   "cell_type": "markdown",
   "metadata": {},
   "source": [
    "There are two possible end outcome of a loan;\n",
    "\n",
    "- Being paid-off\n",
    "- Not being paid-off\n",
    "\n",
    "The columns describing these status are;\n",
    "- Fully Paid (paid-off)\n",
    "- Charged off (not paid-off)\n",
    "\n",
    "Though the default column ressembles charged-off it seems that investors still believe there is small chance of it being paid-off eventually"
   ]
  },
  {
   "cell_type": "markdown",
   "metadata": {},
   "source": [
    "Let's remove all rows that don't contain values other than 'Fully Paid' or 'Charged Off' for our target column ('loan_status')"
   ]
  },
  {
   "cell_type": "code",
   "execution_count": 49,
   "metadata": {},
   "outputs": [],
   "source": [
    "array = ['Fully Paid', 'Charged Off']\n",
    "loans_2 = loans[loans['loan_status'].isin(array)]"
   ]
  },
  {
   "cell_type": "code",
   "execution_count": 50,
   "metadata": {},
   "outputs": [
    {
     "data": {
      "text/plain": [
       "42538"
      ]
     },
     "execution_count": 50,
     "metadata": {},
     "output_type": "execute_result"
    }
   ],
   "source": [
    "len(loans)"
   ]
  },
  {
   "cell_type": "code",
   "execution_count": 51,
   "metadata": {},
   "outputs": [
    {
     "data": {
      "text/plain": [
       "Fully Paid     33136\n",
       "Charged Off     5634\n",
       "Name: loan_status, dtype: int64"
      ]
     },
     "execution_count": 51,
     "metadata": {},
     "output_type": "execute_result"
    }
   ],
   "source": [
    "loans_2['loan_status'].value_counts()"
   ]
  },
  {
   "cell_type": "code",
   "execution_count": 52,
   "metadata": {},
   "outputs": [],
   "source": [
    "loans_3 = loans_2.replace(['Fully Paid', 'Charged Off'], [1, 0])"
   ]
  },
  {
   "cell_type": "code",
   "execution_count": 53,
   "metadata": {
    "scrolled": true
   },
   "outputs": [
    {
     "data": {
      "text/plain": [
       "1    33136\n",
       "0     5634\n",
       "Name: loan_status, dtype: int64"
      ]
     },
     "execution_count": 53,
     "metadata": {},
     "output_type": "execute_result"
    }
   ],
   "source": [
    "loans_3['loan_status'].value_counts()"
   ]
  },
  {
   "cell_type": "code",
   "execution_count": 54,
   "metadata": {},
   "outputs": [
    {
     "data": {
      "text/plain": [
       "32"
      ]
     },
     "execution_count": 54,
     "metadata": {},
     "output_type": "execute_result"
    }
   ],
   "source": [
    "len(loans_3.columns)\n"
   ]
  },
  {
   "cell_type": "markdown",
   "metadata": {},
   "source": [
    "Let's look at any columns that has only one value (other than NaN)"
   ]
  },
  {
   "cell_type": "code",
   "execution_count": 55,
   "metadata": {},
   "outputs": [],
   "source": [
    "columns = loans_3.columns\n",
    "columns_to_drop = []\n",
    "\n",
    "for cols in columns:\n",
    "    cleaning_up = loans_3[cols].dropna().unique()\n",
    "    if len(cleaning_up) == 1:\n",
    "        columns_to_drop.append(cols)"
   ]
  },
  {
   "cell_type": "code",
   "execution_count": 56,
   "metadata": {},
   "outputs": [],
   "source": [
    "loans_4 = loans_3.drop(columns_to_drop, axis = 1)"
   ]
  },
  {
   "cell_type": "code",
   "execution_count": 57,
   "metadata": {},
   "outputs": [
    {
     "data": {
      "text/plain": [
       "23"
      ]
     },
     "execution_count": 57,
     "metadata": {},
     "output_type": "execute_result"
    }
   ],
   "source": [
    "len(loans_4.columns)"
   ]
  },
  {
   "cell_type": "markdown",
   "metadata": {},
   "source": [
    "# Dealing with missing data\n",
    "\n",
    "ML models cannot work with missing data, therefore a strategy must be adopted to either remove or change the data\n"
   ]
  },
  {
   "cell_type": "code",
   "execution_count": 58,
   "metadata": {},
   "outputs": [
    {
     "data": {
      "text/plain": [
       "loan_amnt                  0\n",
       "term                       0\n",
       "int_rate                   0\n",
       "installment                0\n",
       "emp_length              1036\n",
       "home_ownership             0\n",
       "annual_inc                 0\n",
       "verification_status        0\n",
       "loan_status                0\n",
       "purpose                    0\n",
       "title                     11\n",
       "addr_state                 0\n",
       "dti                        0\n",
       "delinq_2yrs                0\n",
       "earliest_cr_line           0\n",
       "inq_last_6mths             0\n",
       "open_acc                   0\n",
       "pub_rec                    0\n",
       "revol_bal                  0\n",
       "revol_util                50\n",
       "total_acc                  0\n",
       "last_credit_pull_d         2\n",
       "pub_rec_bankruptcies     697\n",
       "dtype: int64"
      ]
     },
     "execution_count": 58,
     "metadata": {},
     "output_type": "execute_result"
    }
   ],
   "source": [
    "null_counts = loans_4.isnull().sum()\n",
    "null_counts"
   ]
  },
  {
   "cell_type": "markdown",
   "metadata": {},
   "source": [
    "Checking the columns, we see that emp_length is actually the length of unemployement, which is an important metric for credit worthiness, therefore we will keep the data despite its large number of missing data\n",
    "\n",
    "<br>\n",
    "\n",
    "As for the other missing data, we will remove in its entirety the column 'pub_rec_bankruptcies' as well as all rows with missing values"
   ]
  },
  {
   "cell_type": "code",
   "execution_count": 59,
   "metadata": {},
   "outputs": [
    {
     "data": {
      "text/plain": [
       "object     11\n",
       "float64    10\n",
       "int64       1\n",
       "dtype: int64"
      ]
     },
     "execution_count": 59,
     "metadata": {},
     "output_type": "execute_result"
    }
   ],
   "source": [
    "loans_5 = loans_4.drop(['pub_rec_bankruptcies'], axis =1)\n",
    "loans_5 = loans_5.dropna()\n",
    "\n",
    "loans_5.dtypes.value_counts()"
   ]
  },
  {
   "cell_type": "markdown",
   "metadata": {},
   "source": [
    "# Numerical Columns\n",
    "\n",
    "Scikit-learn models only make use of numerical columns, therefore text columns must be either ignored or turned into numerical"
   ]
  },
  {
   "cell_type": "code",
   "execution_count": 60,
   "metadata": {},
   "outputs": [
    {
     "data": {
      "text/plain": [
       "Index(['loan_amnt', 'installment', 'annual_inc', 'dti', 'delinq_2yrs',\n",
       "       'inq_last_6mths', 'open_acc', 'pub_rec', 'revol_bal', 'total_acc'],\n",
       "      dtype='object')"
      ]
     },
     "execution_count": 60,
     "metadata": {},
     "output_type": "execute_result"
    }
   ],
   "source": [
    "numerical_columns_df = loans_5.select_dtypes(include=['float'])\n",
    "numerical_columns_df.columns"
   ]
  },
  {
   "cell_type": "code",
   "execution_count": 61,
   "metadata": {},
   "outputs": [
    {
     "data": {
      "text/plain": [
       "Index(['term', 'int_rate', 'emp_length', 'home_ownership',\n",
       "       'verification_status', 'purpose', 'title', 'addr_state',\n",
       "       'earliest_cr_line', 'revol_util', 'last_credit_pull_d'],\n",
       "      dtype='object')"
      ]
     },
     "execution_count": 61,
     "metadata": {},
     "output_type": "execute_result"
    }
   ],
   "source": [
    "object_columns_df = loans_5.select_dtypes(include=['object'])\n",
    "object_columns = object_columns_df.columns\n",
    "object_columns"
   ]
  },
  {
   "cell_type": "markdown",
   "metadata": {},
   "source": [
    "Let's look at each object column unique values"
   ]
  },
  {
   "cell_type": "code",
   "execution_count": 62,
   "metadata": {},
   "outputs": [
    {
     "name": "stdout",
     "output_type": "stream",
     "text": [
      " 36 months    28234\n",
      " 60 months     9441\n",
      "Name: term, dtype: int64\n",
      " 10.99%    906\n",
      " 11.49%    770\n",
      "  7.51%    756\n",
      " 13.49%    747\n",
      "  7.88%    701\n",
      "  7.49%    629\n",
      "  9.99%    573\n",
      "  7.90%    552\n",
      " 11.71%    546\n",
      "  5.42%    524\n",
      " 11.99%    478\n",
      " 10.37%    453\n",
      " 12.69%    441\n",
      "  8.49%    425\n",
      "  6.03%    413\n",
      " 12.99%    404\n",
      " 12.42%    397\n",
      " 10.65%    393\n",
      "  5.79%    390\n",
      " 11.86%    383\n",
      "  7.29%    379\n",
      "  6.62%    376\n",
      "  8.90%    371\n",
      "  9.63%    368\n",
      " 10.59%    351\n",
      " 14.27%    336\n",
      "  9.91%    331\n",
      "  5.99%    329\n",
      " 12.53%    327\n",
      "  7.14%    326\n",
      "          ... \n",
      " 15.07%      2\n",
      " 14.62%      2\n",
      " 14.07%      2\n",
      " 15.01%      2\n",
      " 22.94%      2\n",
      " 14.25%      2\n",
      " 17.03%      2\n",
      " 21.82%      2\n",
      " 15.38%      2\n",
      " 17.15%      2\n",
      " 16.71%      1\n",
      " 22.64%      1\n",
      " 17.54%      1\n",
      " 17.44%      1\n",
      " 18.36%      1\n",
      " 24.59%      1\n",
      " 16.96%      1\n",
      " 18.72%      1\n",
      " 16.33%      1\n",
      " 21.48%      1\n",
      " 17.46%      1\n",
      " 20.52%      1\n",
      " 16.20%      1\n",
      " 17.34%      1\n",
      " 10.64%      1\n",
      " 13.84%      1\n",
      " 16.01%      1\n",
      " 24.40%      1\n",
      " 16.15%      1\n",
      " 14.67%      1\n",
      "Name: int_rate, Length: 371, dtype: int64\n",
      "10+ years    8545\n",
      "< 1 year     4513\n",
      "2 years      4303\n",
      "3 years      4022\n",
      "4 years      3353\n",
      "5 years      3202\n",
      "1 year       3176\n",
      "6 years      2177\n",
      "7 years      1714\n",
      "8 years      1442\n",
      "9 years      1228\n",
      "Name: emp_length, dtype: int64\n",
      "RENT        18112\n",
      "MORTGAGE    16686\n",
      "OWN          2778\n",
      "OTHER          96\n",
      "NONE            3\n",
      "Name: home_ownership, dtype: int64\n",
      "Not Verified       16281\n",
      "Verified           11856\n",
      "Source Verified     9538\n",
      "Name: verification_status, dtype: int64\n",
      "debt_consolidation    17751\n",
      "credit_card            4911\n",
      "other                  3711\n",
      "home_improvement       2808\n",
      "major_purchase         2083\n",
      "small_business         1719\n",
      "car                    1459\n",
      "wedding                 916\n",
      "medical                 655\n",
      "moving                  552\n",
      "house                   356\n",
      "vacation                348\n",
      "educational             312\n",
      "renewable_energy         94\n",
      "Name: purpose, dtype: int64\n",
      "Debt Consolidation                                          2068\n",
      "Debt Consolidation Loan                                     1599\n",
      "Personal Loan                                                624\n",
      "Consolidation                                                488\n",
      "debt consolidation                                           466\n",
      "Credit Card Consolidation                                    345\n",
      "Home Improvement                                             336\n",
      "Debt consolidation                                           314\n",
      "Small Business Loan                                          298\n",
      "Credit Card Loan                                             294\n",
      "Personal                                                     290\n",
      "Consolidation Loan                                           250\n",
      "Home Improvement Loan                                        228\n",
      "personal loan                                                219\n",
      "Loan                                                         202\n",
      "Wedding Loan                                                 199\n",
      "personal                                                     198\n",
      "Car Loan                                                     188\n",
      "consolidation                                                186\n",
      "Other Loan                                                   168\n",
      "Wedding                                                      148\n",
      "Credit Card Payoff                                           144\n",
      "Credit Card Refinance                                        140\n",
      "Major Purchase Loan                                          131\n",
      "Consolidate                                                  124\n",
      "Medical                                                      111\n",
      "Credit Card                                                  110\n",
      "home improvement                                             101\n",
      "Credit Cards                                                  91\n",
      "My Loan                                                       90\n",
      "                                                            ... \n",
      "kevin                                                          1\n",
      "Debt consolidation / vacation                                  1\n",
      "REBALANCE 2010                                                 1\n",
      "pay off mastercard                                             1\n",
      "loan needed before Iraq...                                     1\n",
      "1986 F800 Fire Truck                                           1\n",
      "sports bar                                                     1\n",
      "Paying off my Credit Card Debt                                 1\n",
      "Added Together                                                 1\n",
      "kitten                                                         1\n",
      "more reasonable rates II                                       1\n",
      "FurloughLoan                                                   1\n",
      "Honeymoon Loan                                                 1\n",
      "Back on our Feet                                               1\n",
      "Road to fiscal responsibility                                  1\n",
      "Product Categories Expansion                                   1\n",
      "bailout loan                                                   1\n",
      "Joanna's loan                                                  1\n",
      "CHICAGO                                                        1\n",
      "auto Loan                                                      1\n",
      "Debt Buster                                                    1\n",
      "Home Improvment Loan Needed                                    1\n",
      "Major investment                                               1\n",
      "looking to get better rate                                     1\n",
      "Pay -Back Loan ASAP                                            1\n",
      "I hate the IRS :)                                              1\n",
      "Complete Debt Consolidation Loan for Economic Consultant       1\n",
      "Jose is looking for financial help                             1\n",
      "Get Out of Debt Free                                           1\n",
      "Lisa's High Percent Buster                                     1\n",
      "Name: title, Length: 18881, dtype: int64\n",
      "CA    6776\n",
      "NY    3614\n",
      "FL    2704\n",
      "TX    2613\n",
      "NJ    1776\n",
      "IL    1447\n",
      "PA    1442\n",
      "VA    1347\n",
      "GA    1323\n",
      "MA    1272\n",
      "OH    1149\n",
      "MD    1008\n",
      "AZ     807\n",
      "WA     788\n",
      "CO     748\n",
      "NC     729\n",
      "CT     711\n",
      "MI     678\n",
      "MO     648\n",
      "MN     581\n",
      "NV     466\n",
      "SC     454\n",
      "WI     427\n",
      "OR     422\n",
      "LA     420\n",
      "AL     420\n",
      "KY     311\n",
      "OK     285\n",
      "UT     249\n",
      "KS     249\n",
      "AR     229\n",
      "DC     209\n",
      "RI     194\n",
      "NM     180\n",
      "WV     164\n",
      "HI     162\n",
      "NH     157\n",
      "DE     110\n",
      "MT      77\n",
      "AK      76\n",
      "WY      76\n",
      "SD      60\n",
      "VT      53\n",
      "MS      19\n",
      "TN      17\n",
      "IN       9\n",
      "ID       6\n",
      "NE       5\n",
      "IA       5\n",
      "ME       3\n",
      "Name: addr_state, dtype: int64\n",
      "Oct-1999    355\n",
      "Nov-1998    354\n",
      "Dec-1998    332\n",
      "Oct-2000    331\n",
      "Nov-2000    313\n",
      "Dec-1997    310\n",
      "Nov-1999    308\n",
      "Sep-2000    294\n",
      "Nov-1997    293\n",
      "Oct-1998    288\n",
      "Dec-1995    281\n",
      "Dec-1999    280\n",
      "Jan-2000    273\n",
      "Dec-2000    269\n",
      "Jul-2000    263\n",
      "Sep-2001    263\n",
      "Nov-1996    259\n",
      "Oct-2002    256\n",
      "Aug-2000    256\n",
      "Oct-2001    255\n",
      "Dec-1996    255\n",
      "Sep-1999    251\n",
      "Aug-1998    248\n",
      "May-2000    246\n",
      "Oct-2003    239\n",
      "Apr-2000    239\n",
      "Aug-1999    238\n",
      "Oct-1997    236\n",
      "Jan-1999    234\n",
      "Jan-2001    233\n",
      "           ... \n",
      "Oct-1970      1\n",
      "Sep-1963      1\n",
      "Oct-2008      1\n",
      "Mar-1963      1\n",
      "May-1965      1\n",
      "Dec-1950      1\n",
      "Jul-1967      1\n",
      "Jun-1969      1\n",
      "Apr-1969      1\n",
      "Nov-1954      1\n",
      "Nov-1972      1\n",
      "Jun-1967      1\n",
      "Jan-1946      1\n",
      "Jun-1968      1\n",
      "Feb-1966      1\n",
      "Feb-1973      1\n",
      "Nov-1962      1\n",
      "Nov-1968      1\n",
      "Jun-1972      1\n",
      "Oct-1974      1\n",
      "Jan-1963      1\n",
      "Apr-1966      1\n",
      "Apr-1964      1\n",
      "Aug-1967      1\n",
      "Oct-1963      1\n",
      "Dec-1966      1\n",
      "Oct-1968      1\n",
      "Sep-1956      1\n",
      "Feb-1967      1\n",
      "Dec-1965      1\n",
      "Name: earliest_cr_line, Length: 514, dtype: int64\n",
      "0%        924\n",
      "0.2%       62\n",
      "63%        61\n",
      "40.7%      57\n",
      "66.7%      56\n",
      "0.1%       55\n",
      "31.2%      55\n",
      "61%        55\n",
      "70.4%      55\n",
      "46.4%      55\n",
      "37.6%      55\n",
      "66.6%      54\n",
      "32%        54\n",
      "64.8%      54\n",
      "68.7%      53\n",
      "57.4%      53\n",
      "70.8%      53\n",
      "46.6%      53\n",
      "48%        52\n",
      "48.9%      52\n",
      "64.6%      52\n",
      "75.5%      52\n",
      "35.3%      51\n",
      "68.6%      51\n",
      "78.7%      51\n",
      "25.5%      51\n",
      "51.6%      51\n",
      "76.6%      51\n",
      "45.6%      51\n",
      "41%        51\n",
      "         ... \n",
      "0.01%       1\n",
      "70.94%      1\n",
      "9.34%       1\n",
      "29.53%      1\n",
      "49.69%      1\n",
      "47.36%      1\n",
      "17.67%      1\n",
      "25.33%      1\n",
      "3.18%       1\n",
      "58.19%      1\n",
      "23.11%      1\n",
      "0.05%       1\n",
      "33.26%      1\n",
      "34.89%      1\n",
      "25.74%      1\n",
      "33.14%      1\n",
      "0.83%       1\n",
      "21.59%      1\n",
      "8.58%       1\n",
      "0.46%       1\n",
      "10.17%      1\n",
      "0.75%       1\n",
      "56.26%      1\n",
      "29.77%      1\n",
      "24.65%      1\n",
      "94.46%      1\n",
      "5.34%       1\n",
      "0.12%       1\n",
      "8.49%       1\n",
      "46.74%      1\n",
      "Name: revol_util, Length: 1086, dtype: int64\n",
      "Jun-2016    10472\n",
      "Mar-2016     1032\n",
      "Apr-2016      845\n",
      "Feb-2013      828\n",
      "May-2016      719\n",
      "Feb-2016      686\n",
      "Jan-2016      617\n",
      "Dec-2015      608\n",
      "Mar-2013      557\n",
      "Mar-2014      537\n",
      "Dec-2014      532\n",
      "Jul-2014      528\n",
      "Sep-2014      515\n",
      "Jul-2015      508\n",
      "Feb-2014      505\n",
      "Sep-2015      494\n",
      "Oct-2014      493\n",
      "Jan-2014      492\n",
      "Aug-2014      491\n",
      "Nov-2015      484\n",
      "Nov-2014      473\n",
      "Apr-2014      470\n",
      "Oct-2015      467\n",
      "Nov-2013      451\n",
      "May-2014      447\n",
      "May-2013      437\n",
      "Jun-2014      432\n",
      "Jan-2015      416\n",
      "Apr-2013      411\n",
      "May-2015      408\n",
      "            ...  \n",
      "Jan-2013       33\n",
      "Oct-2009       33\n",
      "Nov-2009       28\n",
      "Jan-2010       27\n",
      "Aug-2009       19\n",
      "Feb-2009       16\n",
      "Aug-2007       15\n",
      "Apr-2009       15\n",
      "Jan-2009       14\n",
      "Jul-2009       13\n",
      "Jun-2009       13\n",
      "Jun-2007       12\n",
      "May-2009       10\n",
      "Sep-2009       10\n",
      "Mar-2009       10\n",
      "Aug-2008        9\n",
      "Oct-2008        9\n",
      "Dec-2008        5\n",
      "Sep-2008        5\n",
      "Mar-2008        4\n",
      "Feb-2008        3\n",
      "Oct-2007        3\n",
      "Jan-2008        3\n",
      "Sep-2007        2\n",
      "Dec-2007        2\n",
      "Jul-2008        1\n",
      "Jun-2008        1\n",
      "Jul-2007        1\n",
      "May-2008        1\n",
      "May-2007        1\n",
      "Name: last_credit_pull_d, Length: 107, dtype: int64\n"
     ]
    }
   ],
   "source": [
    "for columns in object_columns:\n",
    "    print(loans_5[columns].value_counts())"
   ]
  },
  {
   "cell_type": "markdown",
   "metadata": {},
   "source": [
    "The home_ownership, verification_status, emp_length, term, and addr_state columns all contain multiple discrete values"
   ]
  },
  {
   "cell_type": "markdown",
   "metadata": {},
   "source": [
    "We should clean the emp_length column and treat it as a numerical one since the values have ordering (2 years of employment is less than 8 years)."
   ]
  },
  {
   "cell_type": "markdown",
   "metadata": {},
   "source": [
    "It seems like the purpose and title columns do contain overlapping information but we'll keep the purpose column since it contains a few discrete values. In addition, the title column has data quality issues since many of the values are repeated with slight modifications (e.g. Debt Consolidation and Debt Consolidation Loan and debt consolidation)."
   ]
  },
  {
   "cell_type": "markdown",
   "metadata": {},
   "source": [
    "Let's remove last_credit_pull_d, addr_state, title, and earliest_cr_line for not adding value"
   ]
  },
  {
   "cell_type": "code",
   "execution_count": 63,
   "metadata": {},
   "outputs": [],
   "source": [
    "loans_5 = loans_5.drop(['last_credit_pull_d', 'addr_state', 'title', 'earliest_cr_line'], axis=1)"
   ]
  },
  {
   "cell_type": "markdown",
   "metadata": {},
   "source": [
    "Let's convert the 'int_rate' and 'revol_util' columns into ing"
   ]
  },
  {
   "cell_type": "code",
   "execution_count": 64,
   "metadata": {},
   "outputs": [],
   "source": [
    "loans_5['int_rate'] = loans_5['int_rate'].str.rstrip('%').astype('float')"
   ]
  },
  {
   "cell_type": "code",
   "execution_count": 65,
   "metadata": {},
   "outputs": [],
   "source": [
    "loans_5['revol_util'] = loans_5['revol_util'].str.rstrip('%').astype('float')"
   ]
  },
  {
   "cell_type": "code",
   "execution_count": 66,
   "metadata": {},
   "outputs": [],
   "source": [
    "mapping_dict = {\n",
    "    \"emp_length\": {\n",
    "        \"10+ years\": 10,\n",
    "        \"9 years\": 9,\n",
    "        \"8 years\": 8,\n",
    "        \"7 years\": 7,\n",
    "        \"6 years\": 6,\n",
    "        \"5 years\": 5,\n",
    "        \"4 years\": 4,\n",
    "        \"3 years\": 3,\n",
    "        \"2 years\": 2,\n",
    "        \"1 year\": 1,\n",
    "        \"< 1 year\": 0,\n",
    "        \"n/a\": 0\n",
    "    }\n",
    "}"
   ]
  },
  {
   "cell_type": "code",
   "execution_count": 67,
   "metadata": {},
   "outputs": [],
   "source": [
    "loans_6 = loans_5.replace(mapping_dict)"
   ]
  },
  {
   "cell_type": "markdown",
   "metadata": {},
   "source": [
    "let's now get dummies for the columns home_ownership, verification_status, purpose, and term"
   ]
  },
  {
   "cell_type": "code",
   "execution_count": 68,
   "metadata": {},
   "outputs": [],
   "source": [
    "dummy_df = pd.get_dummies(loans_6[[\"term\", \"verification_status\", \"home_ownership\", \"purpose\"]])"
   ]
  },
  {
   "cell_type": "code",
   "execution_count": 69,
   "metadata": {},
   "outputs": [],
   "source": [
    "loans_6 = pd.concat([loans_6, dummy_df], axis=1)"
   ]
  },
  {
   "cell_type": "code",
   "execution_count": 70,
   "metadata": {},
   "outputs": [],
   "source": [
    "loans_6 = loans_6.drop([\"verification_status\", \"term\"], axis =1)"
   ]
  },
  {
   "cell_type": "code",
   "execution_count": 71,
   "metadata": {},
   "outputs": [],
   "source": [
    "loans_6 = loans_6.drop([\"home_ownership\", \"purpose\"], axis =1)"
   ]
  },
  {
   "cell_type": "markdown",
   "metadata": {},
   "source": [
    "# Making Predictions\n",
    "\n",
    "- We now have cleaned data to feed the algorithm = features\n",
    "- Our goal is to predict the data located in the column loan_status = target"
   ]
  },
  {
   "cell_type": "markdown",
   "metadata": {},
   "source": [
    "# Setting-up an error metric\n",
    "\n",
    "An error metric will indicate whether the machine learning model performs well or not.\n",
    "If it does, it should help us identify loans that get repaid.\n",
    "<br>\n",
    "\n",
    "We are looking at reducing the possibility of two events;\n",
    "\n",
    "- False positives: when we think loans will be repaid but actually aren't\n",
    "- False negatives: when we think loans won't be repaid but actually are"
   ]
  },
  {
   "cell_type": "markdown",
   "metadata": {},
   "source": [
    "# False Negatives & Positives\n",
    "\n",
    "We can establish these two status by looking at two columns;\n",
    "\n",
    "- loan_status actual\n",
    "- prediction\n",
    "\n",
    "From there we can generate the following;\n",
    "\n",
    "- loan_status actual 0 prediction 1 = False Positive\n",
    "- loan_status actual 1 prediction 1 = True Positive\n",
    "- loan_status actual 0 prediction 0 = True Negative\n",
    "- loan_status actual 1 prediction 0 = False Negative"
   ]
  },
  {
   "cell_type": "code",
   "execution_count": 72,
   "metadata": {},
   "outputs": [
    {
     "data": {
      "text/plain": [
       "10    8545\n",
       "0     4513\n",
       "2     4303\n",
       "3     4022\n",
       "4     3353\n",
       "5     3202\n",
       "1     3176\n",
       "6     2177\n",
       "7     1714\n",
       "8     1442\n",
       "9     1228\n",
       "Name: emp_length, dtype: int64"
      ]
     },
     "execution_count": 72,
     "metadata": {},
     "output_type": "execute_result"
    }
   ],
   "source": [
    "loans_6[\"emp_length\"].value_counts()"
   ]
  },
  {
   "cell_type": "code",
   "execution_count": 73,
   "metadata": {},
   "outputs": [],
   "source": [
    "loans_6[\"emp_length\"] = loans_6[\"emp_length\"].astype(int)"
   ]
  },
  {
   "cell_type": "code",
   "execution_count": 74,
   "metadata": {
    "scrolled": true
   },
   "outputs": [
    {
     "name": "stdout",
     "output_type": "stream",
     "text": [
      "<class 'pandas.core.frame.DataFrame'>\n",
      "Int64Index: 37675 entries, 0 to 39785\n",
      "Data columns (total 38 columns):\n",
      "loan_amnt                              37675 non-null float64\n",
      "int_rate                               37675 non-null float64\n",
      "installment                            37675 non-null float64\n",
      "emp_length                             37675 non-null int32\n",
      "annual_inc                             37675 non-null float64\n",
      "loan_status                            37675 non-null int64\n",
      "dti                                    37675 non-null float64\n",
      "delinq_2yrs                            37675 non-null float64\n",
      "inq_last_6mths                         37675 non-null float64\n",
      "open_acc                               37675 non-null float64\n",
      "pub_rec                                37675 non-null float64\n",
      "revol_bal                              37675 non-null float64\n",
      "revol_util                             37675 non-null float64\n",
      "total_acc                              37675 non-null float64\n",
      "term_ 36 months                        37675 non-null uint8\n",
      "term_ 60 months                        37675 non-null uint8\n",
      "verification_status_Not Verified       37675 non-null uint8\n",
      "verification_status_Source Verified    37675 non-null uint8\n",
      "verification_status_Verified           37675 non-null uint8\n",
      "home_ownership_MORTGAGE                37675 non-null uint8\n",
      "home_ownership_NONE                    37675 non-null uint8\n",
      "home_ownership_OTHER                   37675 non-null uint8\n",
      "home_ownership_OWN                     37675 non-null uint8\n",
      "home_ownership_RENT                    37675 non-null uint8\n",
      "purpose_car                            37675 non-null uint8\n",
      "purpose_credit_card                    37675 non-null uint8\n",
      "purpose_debt_consolidation             37675 non-null uint8\n",
      "purpose_educational                    37675 non-null uint8\n",
      "purpose_home_improvement               37675 non-null uint8\n",
      "purpose_house                          37675 non-null uint8\n",
      "purpose_major_purchase                 37675 non-null uint8\n",
      "purpose_medical                        37675 non-null uint8\n",
      "purpose_moving                         37675 non-null uint8\n",
      "purpose_other                          37675 non-null uint8\n",
      "purpose_renewable_energy               37675 non-null uint8\n",
      "purpose_small_business                 37675 non-null uint8\n",
      "purpose_vacation                       37675 non-null uint8\n",
      "purpose_wedding                        37675 non-null uint8\n",
      "dtypes: float64(12), int32(1), int64(1), uint8(24)\n",
      "memory usage: 5.0 MB\n"
     ]
    }
   ],
   "source": [
    "loans_6.info()"
   ]
  },
  {
   "cell_type": "code",
   "execution_count": 75,
   "metadata": {},
   "outputs": [
    {
     "data": {
      "text/plain": [
       "0    19924\n",
       "1    17751\n",
       "Name: purpose_debt_consolidation, dtype: int64"
      ]
     },
     "execution_count": 75,
     "metadata": {},
     "output_type": "execute_result"
    }
   ],
   "source": [
    "loans_6[\"purpose_debt_consolidation\"].value_counts()"
   ]
  },
  {
   "cell_type": "markdown",
   "metadata": {},
   "source": [
    "# Logistic Regression\n",
    "\n",
    "Most algorithms can't deal with non-numeric or missing values, which is why we had to do so much data cleaning."
   ]
  },
  {
   "cell_type": "code",
   "execution_count": 76,
   "metadata": {},
   "outputs": [],
   "source": [
    "from sklearn.linear_model import LogisticRegression\n",
    "lr = LogisticRegression()"
   ]
  },
  {
   "cell_type": "code",
   "execution_count": 77,
   "metadata": {},
   "outputs": [],
   "source": [
    "features = loans_6.drop([\"loan_status\"], axis = 1)\n",
    "target = loans_6[\"loan_status\"]"
   ]
  },
  {
   "cell_type": "code",
   "execution_count": 78,
   "metadata": {},
   "outputs": [
    {
     "name": "stderr",
     "output_type": "stream",
     "text": [
      "C:\\Users\\Gabriel_pirastru\\AppData\\Local\\Continuum\\anaconda3\\lib\\site-packages\\sklearn\\linear_model\\logistic.py:433: FutureWarning: Default solver will be changed to 'lbfgs' in 0.22. Specify a solver to silence this warning.\n",
      "  FutureWarning)\n"
     ]
    }
   ],
   "source": [
    "fitting = lr.fit(features, target)"
   ]
  },
  {
   "cell_type": "code",
   "execution_count": 79,
   "metadata": {},
   "outputs": [
    {
     "ename": "NameError",
     "evalue": "name 'predictions' is not defined",
     "output_type": "error",
     "traceback": [
      "\u001b[1;31m---------------------------------------------------------------------------\u001b[0m",
      "\u001b[1;31mNameError\u001b[0m                                 Traceback (most recent call last)",
      "\u001b[1;32m<ipython-input-79-d47fd11c9fa8>\u001b[0m in \u001b[0;36m<module>\u001b[1;34m\u001b[0m\n\u001b[1;32m----> 1\u001b[1;33m \u001b[0mnp\u001b[0m\u001b[1;33m.\u001b[0m\u001b[0munique\u001b[0m\u001b[1;33m(\u001b[0m\u001b[0mpredictions\u001b[0m\u001b[1;33m,\u001b[0m \u001b[0mreturn_counts\u001b[0m \u001b[1;33m=\u001b[0m \u001b[1;32mTrue\u001b[0m\u001b[1;33m)\u001b[0m\u001b[1;33m\u001b[0m\u001b[1;33m\u001b[0m\u001b[0m\n\u001b[0m",
      "\u001b[1;31mNameError\u001b[0m: name 'predictions' is not defined"
     ]
    }
   ],
   "source": [
    "np.unique(predictions, return_counts = True)"
   ]
  },
  {
   "cell_type": "markdown",
   "metadata": {},
   "source": [
    "# First Model Results\n",
    "\n",
    "The model is obviously overfitted with overwhelming good results, this comes from the fact that we used the same data to train and predict\n",
    "\n",
    "<br>\n",
    "\n",
    "To improve the results we should use k-fold cross validation with cross_val_predict() function from the sklearn.model_selection package"
   ]
  },
  {
   "cell_type": "code",
   "execution_count": 80,
   "metadata": {},
   "outputs": [
    {
     "name": "stderr",
     "output_type": "stream",
     "text": [
      "C:\\Users\\Gabriel_pirastru\\AppData\\Local\\Continuum\\anaconda3\\lib\\site-packages\\sklearn\\linear_model\\logistic.py:433: FutureWarning: Default solver will be changed to 'lbfgs' in 0.22. Specify a solver to silence this warning.\n",
      "  FutureWarning)\n",
      "C:\\Users\\Gabriel_pirastru\\AppData\\Local\\Continuum\\anaconda3\\lib\\site-packages\\sklearn\\linear_model\\logistic.py:433: FutureWarning: Default solver will be changed to 'lbfgs' in 0.22. Specify a solver to silence this warning.\n",
      "  FutureWarning)\n",
      "C:\\Users\\Gabriel_pirastru\\AppData\\Local\\Continuum\\anaconda3\\lib\\site-packages\\sklearn\\linear_model\\logistic.py:433: FutureWarning: Default solver will be changed to 'lbfgs' in 0.22. Specify a solver to silence this warning.\n",
      "  FutureWarning)\n"
     ]
    }
   ],
   "source": [
    "from sklearn.model_selection import cross_val_predict\n",
    "lr_2 = LogisticRegression()\n",
    "\n",
    "predictions_2 = cross_val_predict(lr_2, features, target, cv = 3)"
   ]
  },
  {
   "cell_type": "code",
   "execution_count": 81,
   "metadata": {
    "scrolled": true
   },
   "outputs": [
    {
     "data": {
      "text/plain": [
       "(array([0, 1], dtype=int64), array([   59, 37616], dtype=int64))"
      ]
     },
     "execution_count": 81,
     "metadata": {},
     "output_type": "execute_result"
    }
   ],
   "source": [
    "np.unique(predictions_2, return_counts = True)"
   ]
  },
  {
   "cell_type": "code",
   "execution_count": 91,
   "metadata": {},
   "outputs": [],
   "source": [
    "# False positives.\n",
    "fp_filter = (predictions_2 == 1) & (loans_6[\"loan_status\"] == 0)\n",
    "fp_1 = len(predictions_2[fp_filter])\n",
    "\n",
    "# True positives.\n",
    "tp_filter = (predictions_2 == 1) & (loans_6[\"loan_status\"] == 1)\n",
    "tp_1 = len(predictions_2[tp_filter])\n",
    "\n",
    "# False negatives.\n",
    "fn_filter = (predictions_2 == 0) & (loans_6[\"loan_status\"] == 1)\n",
    "fn_1 = len(predictions_2[fn_filter])\n",
    "\n",
    "# True negatives\n",
    "tn_filter = (predictions_2 == 0) & (loans_6[\"loan_status\"] == 0)\n",
    "tn_1 = len(predictions_2[tn_filter])"
   ]
  },
  {
   "cell_type": "code",
   "execution_count": 92,
   "metadata": {},
   "outputs": [
    {
     "name": "stdout",
     "output_type": "stream",
     "text": [
      "0.9987920460880877\n",
      "0.9962887363147152\n"
     ]
    }
   ],
   "source": [
    "# Rates\n",
    "tpr_1 = tp_1 / (tp_1 + fn_1)\n",
    "fpr_1 = fp_1 / (fp_1 + tn_1)\n",
    "\n",
    "print(tpr_1)\n",
    "print(fpr_1)"
   ]
  },
  {
   "cell_type": "markdown",
   "metadata": {},
   "source": [
    "# Penalising the classifier\n",
    "\n",
    "Our last results show that the logistic regression model doesn't take into account the imbalance in the data (i.e. we have more than 6 times loans being paid-off on time than not).\n",
    "\n",
    "Therefore, we need to add some weight to the model to make-up for this imbalance"
   ]
  },
  {
   "cell_type": "code",
   "execution_count": 93,
   "metadata": {},
   "outputs": [],
   "source": [
    "lr_3 = LogisticRegression(class_weight = \"balanced\")"
   ]
  },
  {
   "cell_type": "code",
   "execution_count": 100,
   "metadata": {},
   "outputs": [
    {
     "name": "stderr",
     "output_type": "stream",
     "text": [
      "C:\\Users\\Gabriel_pirastru\\AppData\\Local\\Continuum\\anaconda3\\lib\\site-packages\\sklearn\\model_selection\\_split.py:2053: FutureWarning: You should specify a value for 'cv' instead of relying on the default value. The default value will change from 3 to 5 in version 0.22.\n",
      "  warnings.warn(CV_WARNING, FutureWarning)\n",
      "C:\\Users\\Gabriel_pirastru\\AppData\\Local\\Continuum\\anaconda3\\lib\\site-packages\\sklearn\\linear_model\\logistic.py:433: FutureWarning: Default solver will be changed to 'lbfgs' in 0.22. Specify a solver to silence this warning.\n",
      "  FutureWarning)\n",
      "C:\\Users\\Gabriel_pirastru\\AppData\\Local\\Continuum\\anaconda3\\lib\\site-packages\\sklearn\\linear_model\\logistic.py:433: FutureWarning: Default solver will be changed to 'lbfgs' in 0.22. Specify a solver to silence this warning.\n",
      "  FutureWarning)\n",
      "C:\\Users\\Gabriel_pirastru\\AppData\\Local\\Continuum\\anaconda3\\lib\\site-packages\\sklearn\\linear_model\\logistic.py:433: FutureWarning: Default solver will be changed to 'lbfgs' in 0.22. Specify a solver to silence this warning.\n",
      "  FutureWarning)\n"
     ]
    }
   ],
   "source": [
    "predictions_3 = cross_val_predict(lr_3, features, target)"
   ]
  },
  {
   "cell_type": "code",
   "execution_count": 101,
   "metadata": {},
   "outputs": [],
   "source": [
    "# False positives.\n",
    "fp_filter = (predictions_3 == 1) & (loans_6[\"loan_status\"] == 0)\n",
    "fp_3 = len(predictions_3[fp_filter])\n",
    "\n",
    "# True positives.\n",
    "tp_filter = (predictions_3 == 1) & (loans_6[\"loan_status\"] == 1)\n",
    "tp_3 = len(predictions_3[tp_filter])\n",
    "\n",
    "# False negatives.\n",
    "fn_filter = (predictions_3 == 0) & (loans_6[\"loan_status\"] == 1)\n",
    "fn_3 = len(predictions_3[fn_filter])\n",
    "\n",
    "# True negatives\n",
    "tn_filter = (predictions_3 == 0) & (loans_6[\"loan_status\"] == 0)\n",
    "tn_3 = len(predictions_3[tn_filter])"
   ]
  },
  {
   "cell_type": "code",
   "execution_count": 102,
   "metadata": {
    "scrolled": true
   },
   "outputs": [
    {
     "name": "stdout",
     "output_type": "stream",
     "text": [
      "0.6737285510747693\n",
      "0.39320838745592873\n"
     ]
    }
   ],
   "source": [
    "# Rates\n",
    "tpr_3 = tp_3 / (tp_3 + fn_3)\n",
    "fpr_3 = fp_3 / (fp_3 + tn_3)\n",
    "\n",
    "print(tpr_3)\n",
    "print(fpr_3)"
   ]
  },
  {
   "cell_type": "markdown",
   "metadata": {},
   "source": [
    "# Results\n",
    "\n",
    "- We significantly improved false positive rate in the last screen by balancing the classes, which reduced true positive rate\n",
    "- However, we'd only ever decide to fund 66% of the total loans (true positive rate), so we'd immediately reject a good amount of loans."
   ]
  },
  {
   "cell_type": "markdown",
   "metadata": {},
   "source": [
    "# Manual Penalties\n",
    "\n",
    "- To get even better accuracy we can implement manual penalties"
   ]
  },
  {
   "cell_type": "code",
   "execution_count": 103,
   "metadata": {},
   "outputs": [
    {
     "name": "stderr",
     "output_type": "stream",
     "text": [
      "C:\\Users\\Gabriel_pirastru\\AppData\\Local\\Continuum\\anaconda3\\lib\\site-packages\\sklearn\\linear_model\\logistic.py:433: FutureWarning: Default solver will be changed to 'lbfgs' in 0.22. Specify a solver to silence this warning.\n",
      "  FutureWarning)\n",
      "C:\\Users\\Gabriel_pirastru\\AppData\\Local\\Continuum\\anaconda3\\lib\\site-packages\\sklearn\\linear_model\\logistic.py:433: FutureWarning: Default solver will be changed to 'lbfgs' in 0.22. Specify a solver to silence this warning.\n",
      "  FutureWarning)\n",
      "C:\\Users\\Gabriel_pirastru\\AppData\\Local\\Continuum\\anaconda3\\lib\\site-packages\\sklearn\\linear_model\\logistic.py:433: FutureWarning: Default solver will be changed to 'lbfgs' in 0.22. Specify a solver to silence this warning.\n",
      "  FutureWarning)\n"
     ]
    }
   ],
   "source": [
    "penalty = {\n",
    "    0: 10,\n",
    "    1: 1\n",
    "}\n",
    "\n",
    "lr_4 = LogisticRegression(class_weight=penalty)\n",
    "predictions_4 = cross_val_predict(lr_4, features, target, cv=3)\n"
   ]
  },
  {
   "cell_type": "code",
   "execution_count": 104,
   "metadata": {},
   "outputs": [
    {
     "name": "stdout",
     "output_type": "stream",
     "text": [
      "0.25150219909558325\n",
      "0.0946372239747634\n"
     ]
    }
   ],
   "source": [
    "# False positives.\n",
    "fp_filter_4 = (predictions_4 == 1) & (loans_6[\"loan_status\"] == 0)\n",
    "fp_4 = len(predictions_4[fp_filter_4])\n",
    "\n",
    "# True positives.\n",
    "tp_filter_4 = (predictions_4 == 1) & (loans_6[\"loan_status\"] == 1)\n",
    "tp_4 = len(predictions_4[tp_filter_4])\n",
    "\n",
    "# False negatives.\n",
    "fn_filter_4 = (predictions_4 == 0) & (loans_6[\"loan_status\"] == 1)\n",
    "fn_4 = len(predictions_4[fn_filter_4])\n",
    "\n",
    "# True negatives\n",
    "tn_filter_4 = (predictions_4 == 0) & (loans_6[\"loan_status\"] == 0)\n",
    "tn_4 = len(predictions_4[tn_filter_4])\n",
    "\n",
    "# Rates\n",
    "tpr_4 = tp_4 / (tp_4 + fn_4)\n",
    "fpr_4 = fp_4 / (fp_4 + tn_4)\n",
    "\n",
    "print(tpr_4)\n",
    "print(fpr_4)"
   ]
  },
  {
   "cell_type": "markdown",
   "metadata": {},
   "source": [
    "Assigning manual penalties lowered the false positive rate to 9%, and thus lowered risk. This comes at the expense of true positive rate i.e. we might miss out on some trades\n",
    "\n",
    "Training a random forest algorithm may enable us to get more accuracy due to columns that correlate nonlinearly with loan_status"
   ]
  },
  {
   "cell_type": "markdown",
   "metadata": {},
   "source": [
    "# Random Forest"
   ]
  },
  {
   "cell_type": "code",
   "execution_count": 105,
   "metadata": {},
   "outputs": [],
   "source": [
    "from sklearn.ensemble import RandomForestClassifier"
   ]
  },
  {
   "cell_type": "code",
   "execution_count": 106,
   "metadata": {},
   "outputs": [],
   "source": [
    "rf = RandomForestClassifier(class_weight ='balanced', random_state = 1)"
   ]
  },
  {
   "cell_type": "code",
   "execution_count": 88,
   "metadata": {},
   "outputs": [
    {
     "name": "stderr",
     "output_type": "stream",
     "text": [
      "C:\\Users\\Gabriel_pirastru\\AppData\\Local\\Continuum\\anaconda3\\lib\\site-packages\\sklearn\\ensemble\\forest.py:246: FutureWarning: The default value of n_estimators will change from 10 in version 0.20 to 100 in 0.22.\n",
      "  \"10 in version 0.20 to 100 in 0.22.\", FutureWarning)\n",
      "C:\\Users\\Gabriel_pirastru\\AppData\\Local\\Continuum\\anaconda3\\lib\\site-packages\\sklearn\\ensemble\\forest.py:246: FutureWarning: The default value of n_estimators will change from 10 in version 0.20 to 100 in 0.22.\n",
      "  \"10 in version 0.20 to 100 in 0.22.\", FutureWarning)\n",
      "C:\\Users\\Gabriel_pirastru\\AppData\\Local\\Continuum\\anaconda3\\lib\\site-packages\\sklearn\\ensemble\\forest.py:246: FutureWarning: The default value of n_estimators will change from 10 in version 0.20 to 100 in 0.22.\n",
      "  \"10 in version 0.20 to 100 in 0.22.\", FutureWarning)\n"
     ]
    }
   ],
   "source": [
    "predictions_5 = cross_val_predict(rf, features, target, cv =3)"
   ]
  },
  {
   "cell_type": "code",
   "execution_count": 89,
   "metadata": {},
   "outputs": [
    {
     "name": "stdout",
     "output_type": "stream",
     "text": [
      "0.9687170909991947\n",
      "0.9200222675821117\n"
     ]
    }
   ],
   "source": [
    "# False positives.\n",
    "fp_filter_5 = (predictions_5 == 1) & (loans_6[\"loan_status\"] == 0)\n",
    "fp_5 = len(predictions_5[fp_filter_5])\n",
    "\n",
    "# True positives.\n",
    "tp_filter_5 = (predictions_5 == 1) & (loans_6[\"loan_status\"] == 1)\n",
    "tp_5 = len(predictions_5[tp_filter_5])\n",
    "\n",
    "# False negatives.\n",
    "fn_filter_5 = (predictions_5 == 0) & (loans_6[\"loan_status\"] == 1)\n",
    "fn_5 = len(predictions_5[fn_filter_5])\n",
    "\n",
    "# True negatives\n",
    "tn_filter_5 = (predictions_5 == 0) & (loans_6[\"loan_status\"] == 0)\n",
    "tn_5 = len(predictions_5[tn_filter_5])\n",
    "\n",
    "# Rates\n",
    "tpr_5 = tp_5 / (tp_5 + fn_5)\n",
    "fpr_5 = fp_5 / (fp_5 + tn_5)\n",
    "\n",
    "print(tpr_5)\n",
    "print(fpr_5)"
   ]
  },
  {
   "cell_type": "markdown",
   "metadata": {},
   "source": [
    "Unfortunately, using a random forest classifier didn't improve our false positive rate. The model is likely weighting too heavily on the 1 class, and still mostly predicting 1s. We could fix this by applying a harsher penalty for misclassifications of 0s."
   ]
  },
  {
   "cell_type": "markdown",
   "metadata": {},
   "source": [
    "Ultimately, our best model had a false positive rate of nearly 9%, and a true positive rate of nearly 24%. For a conservative investor, this means that they make money as long as the interest rate is high enough to offset the losses from 9% of borrowers defaulting, and that the pool of 24% of borrowers is large enough to make enough interest money to offset the losses.\n",
    "\n"
   ]
  },
  {
   "cell_type": "markdown",
   "metadata": {},
   "source": [
    "If we had randomly picked loans to fund, borrowers would have defaulted on 14.5% of them, and our model is better than that, although we're excluding more loans than a random strategy would. Given this, there's still quite a bit of room to improve:\n",
    "\n",
    "- We can tweak the penalties further.\n",
    "- We can try models other than a random forest and logistic regression.\n",
    "- We can use some of the columns we discarded to generate better features.\n",
    "- We can ensemble multiple models to get more accurate predictions.\n",
    "- We can tune the parameters of the algorithm to achieve higher performance."
   ]
  }
 ],
 "metadata": {
  "kernelspec": {
   "display_name": "Python 3",
   "language": "python",
   "name": "python3"
  }
 },
 "nbformat": 4,
 "nbformat_minor": 2
}
